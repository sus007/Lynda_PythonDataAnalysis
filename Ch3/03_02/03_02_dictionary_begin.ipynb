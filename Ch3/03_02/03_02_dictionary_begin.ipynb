{
 "cells": [
  {
   "cell_type": "code",
   "execution_count": 26,
   "metadata": {
    "ExecuteTime": {
     "end_time": "2017-12-10T09:09:43.189654Z",
     "start_time": "2017-12-10T09:09:42.765622Z"
    }
   },
   "outputs": [
    {
     "data": {
      "text/plain": [
       "['A',\n",
       " 'AA',\n",
       " 'AAL',\n",
       " 'AALII',\n",
       " 'AAM',\n",
       " 'AANI',\n",
       " 'AARDVARK',\n",
       " 'AARDWOLF',\n",
       " 'AARON',\n",
       " 'AARONIC']"
      ]
     },
     "execution_count": 26,
     "metadata": {},
     "output_type": "execute_result"
    }
   ],
   "source": [
    "word = open('words')\n",
    "wordlist = word.readlines()\n",
    "wordlist[:10]\n",
    "# Now producing a stripped() and lowered() list of words using List Comprehension\n",
    "wordList = sorted(list(set([aWord.strip().upper() for aWord in wordlist])))\n",
    "wordList[:10]"
   ]
  },
  {
   "cell_type": "code",
   "execution_count": null,
   "metadata": {},
   "outputs": [],
   "source": []
  }
 ],
 "metadata": {
  "kernelspec": {
   "display_name": "Python 3",
   "language": "python",
   "name": "python3"
  },
  "language_info": {
   "codemirror_mode": {
    "name": "ipython",
    "version": 3
   },
   "file_extension": ".py",
   "mimetype": "text/x-python",
   "name": "python",
   "nbconvert_exporter": "python",
   "pygments_lexer": "ipython3",
   "version": "3.6.2"
  }
 },
 "nbformat": 4,
 "nbformat_minor": 1
}
