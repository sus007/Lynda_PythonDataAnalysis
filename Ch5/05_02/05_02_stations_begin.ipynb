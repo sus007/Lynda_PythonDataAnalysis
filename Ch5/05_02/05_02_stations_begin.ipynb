{
 "cells": [
  {
   "cell_type": "code",
   "execution_count": 1,
   "metadata": {
    "ExecuteTime": {
     "end_time": "2017-12-18T07:40:23.940347Z",
     "start_time": "2017-12-18T07:39:35.429791Z"
    }
   },
   "outputs": [],
   "source": [
    "import numpy as np; import matplotlib.pyplot as pp; import seaborn\n",
    "%matplotlib inline"
   ]
  },
  {
   "cell_type": "code",
   "execution_count": 2,
   "metadata": {
    "ExecuteTime": {
     "end_time": "2017-12-18T07:43:33.275130Z",
     "start_time": "2017-12-18T07:41:42.857415Z"
    }
   },
   "outputs": [
    {
     "data": {
      "text/plain": [
       "('stations.txt', <email.message.Message at 0x13235cffdd8>)"
      ]
     },
     "execution_count": 2,
     "metadata": {},
     "output_type": "execute_result"
    }
   ],
   "source": [
    "import urllib.request\n",
    "urllib.request.urlretrieve('ftp://ftp.ncdc.noaa.gov/pub/data/ghcn/daily/ghcnd-stations.txt', 'stations.txt')"
   ]
  },
  {
   "cell_type": "code",
   "execution_count": 3,
   "metadata": {
    "ExecuteTime": {
     "end_time": "2017-12-18T08:13:45.927619Z",
     "start_time": "2017-12-18T08:13:44.868221Z"
    }
   },
   "outputs": [
    {
     "data": {
      "text/plain": [
       "['ACW00011604  17.1167  -61.7833   10.1    ST JOHNS COOLIDGE FLD                       \\n',\n",
       " 'ACW00011647  17.1333  -61.7833   19.2    ST JOHNS                                    \\n',\n",
       " 'AE000041196  25.3330   55.5170   34.0    SHARJAH INTER. AIRP            GSN     41196\\n',\n",
       " 'AEM00041194  25.2550   55.3640   10.4    DUBAI INTL                             41194\\n',\n",
       " 'AEM00041217  24.4330   54.6510   26.8    ABU DHABI INTL                         41217\\n',\n",
       " 'AEM00041218  24.2620   55.6090  264.9    AL AIN INTL                            41218\\n',\n",
       " 'AF000040930  35.3170   69.0170 3366.0    NORTH-SALANG                   GSN     40930\\n',\n",
       " 'AFM00040938  34.2100   62.2280  977.2    HERAT                                  40938\\n',\n",
       " 'AFM00040948  34.5660   69.2120 1791.3    KABUL INTL                             40948\\n',\n",
       " 'AFM00040990  31.5000   65.8500 1010.0    KANDAHAR AIRPORT                       40990\\n']"
      ]
     },
     "execution_count": 3,
     "metadata": {},
     "output_type": "execute_result"
    }
   ],
   "source": [
    "open('stations.txt', 'r').readlines()[:10]"
   ]
  },
  {
   "cell_type": "code",
   "execution_count": 4,
   "metadata": {
    "ExecuteTime": {
     "end_time": "2017-12-18T08:23:21.279325Z",
     "start_time": "2017-12-18T08:23:21.171250Z"
    }
   },
   "outputs": [],
   "source": [
    "stations = {}\n",
    "for line in open('stations.txt', 'r'):\n",
    "    if \"GSN\" in line:\n",
    "        fields = line.split()\n",
    "        stations[fields[0]]= ' '.join(fields[4:])"
   ]
  },
  {
   "cell_type": "code",
   "execution_count": 5,
   "metadata": {
    "ExecuteTime": {
     "end_time": "2017-12-18T08:23:26.258951Z",
     "start_time": "2017-12-18T08:23:26.246944Z"
    }
   },
   "outputs": [
    {
     "data": {
      "text/plain": [
       "994"
      ]
     },
     "execution_count": 5,
     "metadata": {},
     "output_type": "execute_result"
    }
   ],
   "source": [
    "len(stations)"
   ]
  },
  {
   "cell_type": "code",
   "execution_count": 9,
   "metadata": {
    "ExecuteTime": {
     "end_time": "2017-12-18T08:26:23.880431Z",
     "start_time": "2017-12-18T08:26:23.873410Z"
    }
   },
   "outputs": [],
   "source": [
    "def findStation(stationName):\n",
    "    return{code: name for code,name in stations.items() if stationName in name}"
   ]
  },
  {
   "cell_type": "code",
   "execution_count": 20,
   "metadata": {
    "ExecuteTime": {
     "end_time": "2017-12-18T08:29:48.001549Z",
     "start_time": "2017-12-18T08:29:47.993527Z"
    }
   },
   "outputs": [
    {
     "data": {
      "text/plain": [
       "{'ASN00014932': 'TINDAL RAAF GSN 94131',\n",
       " 'ASN00045025': 'THARGOMINDAH AIRPORT GSN 95492',\n",
       " 'BDM00078016': 'L F WADE INTL AP KINDLEY FLD GSN 78016',\n",
       " 'CVM00008583': 'MINDELO GSN 08583',\n",
       " 'GM000010393': 'LINDENBERG GSN 10393',\n",
       " 'USW00023188': 'CA SAN DIEGO LINDBERGH FLD GSN 72290',\n",
       " 'WA007401540': 'WINDHOEK GSN 68110'}"
      ]
     },
     "execution_count": 20,
     "metadata": {},
     "output_type": "execute_result"
    }
   ],
   "source": [
    "findStation('ind'.upper())"
   ]
  },
  {
   "cell_type": "code",
   "execution_count": 21,
   "metadata": {
    "ExecuteTime": {
     "end_time": "2017-12-18T08:30:18.358007Z",
     "start_time": "2017-12-18T08:30:18.354005Z"
    }
   },
   "outputs": [],
   "source": [
    "dataStations = ['NP000444540','USW00023188','ASN00014932','CVM00008583']"
   ]
  },
  {
   "cell_type": "code",
   "execution_count": null,
   "metadata": {},
   "outputs": [],
   "source": []
  }
 ],
 "metadata": {
  "kernelspec": {
   "display_name": "Python 3",
   "language": "python",
   "name": "python3"
  },
  "language_info": {
   "codemirror_mode": {
    "name": "ipython",
    "version": 3
   },
   "file_extension": ".py",
   "mimetype": "text/x-python",
   "name": "python",
   "nbconvert_exporter": "python",
   "pygments_lexer": "ipython3",
   "version": "3.6.2"
  }
 },
 "nbformat": 4,
 "nbformat_minor": 1
}
