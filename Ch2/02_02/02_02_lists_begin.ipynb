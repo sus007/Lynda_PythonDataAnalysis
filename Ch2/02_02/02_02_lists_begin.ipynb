{
 "cells": [
  {
   "cell_type": "markdown",
   "metadata": {},
   "source": [
    "# Doing Dictionary Comprehension\n",
    "$$\\lim\\limits_{x \\to {0^+}}f(x)=\\frac{x^2}{y^2}$$"
   ]
  },
  {
   "cell_type": "code",
   "execution_count": 2,
   "metadata": {
    "ExecuteTime": {
     "end_time": "2017-12-10T06:27:01.744000Z",
     "start_time": "2017-12-10T06:27:01.649000Z"
    }
   },
   "outputs": [
    {
     "name": "stdout",
     "output_type": "stream",
     "text": [
      "{1: 13, 2: 13, 3: 13, 4: 13, 5: 13, 6: 13}\n"
     ]
    }
   ],
   "source": [
    "initial = {key: value for key in xrange(1, 7) for value in xrange(7, 14)}\n",
    "print(initial)"
   ]
  },
  {
   "cell_type": "code",
   "execution_count": null,
   "metadata": {},
   "outputs": [],
   "source": []
  }
 ],
 "metadata": {
  "kernelspec": {
   "display_name": "Python 2",
   "language": "python",
   "name": "python2"
  },
  "language_info": {
   "codemirror_mode": {
    "name": "ipython",
    "version": 2
   },
   "file_extension": ".py",
   "mimetype": "text/x-python",
   "name": "python",
   "nbconvert_exporter": "python",
   "pygments_lexer": "ipython2",
   "version": "2.7.13"
  }
 },
 "nbformat": 4,
 "nbformat_minor": 1
}
