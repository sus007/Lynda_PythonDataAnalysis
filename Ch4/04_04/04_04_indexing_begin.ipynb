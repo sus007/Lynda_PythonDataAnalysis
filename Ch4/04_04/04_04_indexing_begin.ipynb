{
 "cells": [
  {
   "cell_type": "code",
   "execution_count": 7,
   "metadata": {
    "ExecuteTime": {
     "end_time": "2017-12-17T11:08:39.246000Z",
     "start_time": "2017-12-17T11:08:39.235000Z"
    }
   },
   "outputs": [
    {
     "name": "stdout",
     "output_type": "stream",
     "text": [
      "[[ 0.87370836  0.26838094  0.1536815   0.0584454 ]\n",
      " [ 0.95419967  0.94049851  0.80383403  0.00545618]\n",
      " [ 0.98190233  0.70129232  0.11485274  0.4824298 ]]\n"
     ]
    },
    {
     "data": {
      "text/plain": [
       "0.80383402762375644"
      ]
     },
     "execution_count": 7,
     "metadata": {},
     "output_type": "execute_result"
    }
   ],
   "source": [
    "import numpy as np\n",
    "array = np.random.random((3,4))\n",
    "print(array)\n",
    "array[1, 2]"
   ]
  },
  {
   "cell_type": "code",
   "execution_count": 24,
   "metadata": {
    "ExecuteTime": {
     "end_time": "2017-12-17T11:16:53.098000Z",
     "start_time": "2017-12-17T11:16:53.089000Z"
    }
   },
   "outputs": [
    {
     "data": {
      "text/plain": [
       "array([[ 1.        ,  0.26838094],\n",
       "       [ 0.95419967,  0.94049851],\n",
       "       [ 0.98190233,  0.70129232]])"
      ]
     },
     "execution_count": 24,
     "metadata": {},
     "output_type": "execute_result"
    }
   ],
   "source": [
    "array2 = array[:,:2]\n",
    "array2[0,0] = 1\n",
    "\n",
    "array3 = array2.copy()\n",
    "# array3[0, 0] = 100\n",
    "array3[0, 0] = 100\n",
    "array3\n",
    "array2"
   ]
  },
  {
   "cell_type": "code",
   "execution_count": null,
   "metadata": {},
   "outputs": [],
   "source": []
  }
 ],
 "metadata": {
  "kernelspec": {
   "display_name": "Python 2",
   "language": "python",
   "name": "python2"
  },
  "language_info": {
   "codemirror_mode": {
    "name": "ipython",
    "version": 2
   },
   "file_extension": ".py",
   "mimetype": "text/x-python",
   "name": "python",
   "nbconvert_exporter": "python",
   "pygments_lexer": "ipython2",
   "version": "2.7.13"
  }
 },
 "nbformat": 4,
 "nbformat_minor": 1
}
