{
 "cells": [
  {
   "cell_type": "code",
   "execution_count": null,
   "metadata": {},
   "outputs": [],
   "source": [
    "# This is an example snippet!\n",
    "# To create your own, add a new snippet block to the\n",
    "# snippets.json file in your jupyter nbextensions directory:\n",
    "# /nbextensions/snippets/snippets.json\n",
    "import this"
   ]
  },
  {
   "cell_type": "code",
   "execution_count": 6,
   "metadata": {
    "ExecuteTime": {
     "end_time": "2017-12-17T07:54:45.398763Z",
     "start_time": "2017-12-17T07:54:45.193616Z"
    },
    "scrolled": true
   },
   "outputs": [
    {
     "data": {
      "text/plain": [
       "[<matplotlib.lines.Line2D at 0x1094d116e48>,\n",
       " <matplotlib.lines.Line2D at 0x1094d116f98>]"
      ]
     },
     "execution_count": 6,
     "metadata": {},
     "output_type": "execute_result"
    },
    {
     "data": {
      "image/png": "[encoded data removed]",
      "text/plain": [
       "<matplotlib.figure.Figure at 0x1094c6befd0>"
      ]
     },
     "metadata": {},
     "output_type": "display_data"
    }
   ],
   "source": [
    "import numpy as np\n",
    "import matplotlib.pyplot as plt\n",
    "x = np.linspace(10, 50,30)\n",
    "sinx = np.sin(x); cosx = np.cos(x)\n",
    "%matplotlib inline\n",
    "plt.plot(x, sinx, 'yellow', x, cosx, 'gD')\n",
    "# plt.plot(x, cosx, 'ro')"
   ]
  },
  {
   "cell_type": "markdown",
   "metadata": {},
   "source": [
    "<p style = \"font-family: tahoma,dosis,kirsten,hack; font-size: 23px; text-align: center; padding: auto, 0px;\">Use of np.newaxis VS use of .reshape method for slicing/manipulating nd-array</p>"
   ]
  },
  {
   "cell_type": "code",
   "execution_count": null,
   "metadata": {},
   "outputs": [],
   "source": [
    "# This is an example snippet!\n",
    "# To create your own, add a new snippet block to the\n",
    "# snippets.json file in your jupyter nbextensions directory:\n",
    "# /nbextensions/snippets/snippets.json\n",
    "import this"
   ]
  },
  {
   "cell_type": "code",
   "execution_count": 35,
   "metadata": {
    "ExecuteTime": {
     "end_time": "2017-12-17T08:22:39.742043Z",
     "start_time": "2017-12-17T08:22:39.729034Z"
    }
   },
   "outputs": [
    {
     "name": "stdout",
     "output_type": "stream",
     "text": [
      "[[  0.    2.5   5.    7.5  10. ]]\n",
      "[[  0. ]\n",
      " [  2.5]\n",
      " [  5. ]\n",
      " [  7.5]\n",
      " [ 10. ]]\n"
     ]
    }
   ],
   "source": [
    "v = np.linspace(0, 10, 5)\n",
    "new_v = v[np.newaxis, :] \n",
    "#  np.newaxis is used to increase the dimension of the nd-array by 1 and at the same time conver the array/matrix into ROW or COLUMN matrix.\n",
    "# print(v) // Using ndarray[:, np.newaxis] => turns into column matrix. i.e with only single column while ndarray[np.newaxis, :] => turns into row matrix.i.e with a single ROW.\n",
    "# print(new_v)\n",
    "print(v.reshape(1, 5))\n",
    "print(v.reshape(5, 1))\n",
    "# print(v[:, np.newaxis])\n",
    "# vv = np.outer(v, v)\n",
    "# print(vv)\n",
    "# v + vv"
   ]
  },
  {
   "cell_type": "code",
   "execution_count": 23,
   "metadata": {
    "ExecuteTime": {
     "end_time": "2017-12-17T07:59:26.543471Z",
     "start_time": "2017-12-17T07:59:26.536467Z"
    },
    "collapsed": true
   },
   "outputs": [
    {
     "name": "stdout",
     "output_type": "stream",
     "text": [
      "Help on NoneType object:\n",
      "\n",
      "class NoneType(object)\n",
      " |  Methods defined here:\n",
      " |  \n",
      " |  __bool__(self, /)\n",
      " |      self != 0\n",
      " |  \n",
      " |  __new__(*args, **kwargs) from builtins.type\n",
      " |      Create and return a new object.  See help(type) for accurate signature.\n",
      " |  \n",
      " |  __repr__(self, /)\n",
      " |      Return repr(self).\n",
      "\n"
     ]
    }
   ],
   "source": [
    "help(np.newaxis)"
   ]
  },
  {
   "cell_type": "code",
   "execution_count": null,
   "metadata": {},
   "outputs": [],
   "source": []
  }
 ],
 "metadata": {
  "kernelspec": {
   "display_name": "Python 3",
   "language": "python",
   "name": "python3"
  },
  "language_info": {
   "codemirror_mode": {
    "name": "ipython",
    "version": 3
   },
   "file_extension": ".py",
   "mimetype": "text/x-python",
   "name": "python",
   "nbconvert_exporter": "python",
   "pygments_lexer": "ipython3",
   "version": "3.6.2"
  }
 },
 "nbformat": 4,
 "nbformat_minor": 1
}
