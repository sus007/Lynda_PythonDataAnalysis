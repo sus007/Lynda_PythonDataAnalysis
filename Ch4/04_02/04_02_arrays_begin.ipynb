{
 "cells": [
  {
   "cell_type": "code",
   "execution_count": 2,
   "metadata": {
    "ExecuteTime": {
     "end_time": "2017-12-13T06:25:29.874038Z",
     "start_time": "2017-12-13T06:25:15.080653Z"
    }
   },
   "outputs": [
    {
     "data": {
      "image/png": "[encoded data removed]",
      "text/plain": [
       "<matplotlib.figure.Figure at 0x11011e76748>"
      ]
     },
     "metadata": {},
     "output_type": "display_data"
    },
    {
     "data": {
      "image/png": "[encoded data removed]",
      "text/plain": [
       "<matplotlib.figure.Figure at 0x11013f522e8>"
      ]
     },
     "metadata": {},
     "output_type": "display_data"
    }
   ],
   "source": [
    "import numpy as np\n",
    "import matplotlib.pyplot as plt\n",
    "a = np.array([1, 2, 3, 4, 5])\n",
    "b = np.array([6, 7, 8, 9, 10])\n",
    "plt.hist(a)\n",
    "plt.show()\n",
    "plt.clf()\n",
    "plt.hist(b)\n",
    "plt.show()\n",
    "# d = np.array([['a'], ['d'], ['g'], ['j'], ['m']])\n",
    "# c = np.array([a, b], dtype=np.float64)\n",
    "# c"
   ]
  },
  {
   "cell_type": "code",
   "execution_count": 3,
   "metadata": {
    "ExecuteTime": {
     "end_time": "2017-12-13T06:25:29.889632Z",
     "start_time": "2017-12-13T06:25:29.874038Z"
    }
   },
   "outputs": [
    {
     "data": {
      "text/plain": [
       "(1, (5,), 5)"
      ]
     },
     "execution_count": 3,
     "metadata": {},
     "output_type": "execute_result"
    }
   ],
   "source": [
    "a.ndim, a.shape, a.size"
   ]
  },
  {
   "cell_type": "code",
   "execution_count": 4,
   "metadata": {
    "ExecuteTime": {
     "end_time": "2017-12-13T06:25:30.036147Z",
     "start_time": "2017-12-13T06:25:29.889632Z"
    }
   },
   "outputs": [
    {
     "ename": "NameError",
     "evalue": "name 'c' is not defined",
     "output_type": "error",
     "traceback": [
      "\u001b[1;31m---------------------------------------------------------------------------\u001b[0m",
      "\u001b[1;31mNameError\u001b[0m                                 Traceback (most recent call last)",
      "\u001b[1;32m<ipython-input-4-1c08d3fa02dd>\u001b[0m in \u001b[0;36m<module>\u001b[1;34m()\u001b[0m\n\u001b[1;32m----> 1\u001b[1;33m \u001b[0mc\u001b[0m\u001b[1;33m.\u001b[0m\u001b[0mdtype\u001b[0m\u001b[1;33m\u001b[0m\u001b[0m\n\u001b[0m",
      "\u001b[1;31mNameError\u001b[0m: name 'c' is not defined"
     ]
    }
   ],
   "source": [
    "c.dtype"
   ]
  },
  {
   "cell_type": "code",
   "execution_count": null,
   "metadata": {
    "ExecuteTime": {
     "end_time": "2017-12-13T06:25:30.037168Z",
     "start_time": "2017-12-13T06:25:15.099Z"
    }
   },
   "outputs": [],
   "source": [
    "c.shape, c.ndim, c.size"
   ]
  },
  {
   "cell_type": "code",
   "execution_count": null,
   "metadata": {
    "ExecuteTime": {
     "end_time": "2017-12-13T06:25:30.038172Z",
     "start_time": "2017-12-13T06:25:15.108Z"
    }
   },
   "outputs": [],
   "source": [
    "np.ones((3,3), 'd')"
   ]
  },
  {
   "cell_type": "code",
   "execution_count": null,
   "metadata": {
    "ExecuteTime": {
     "end_time": "2017-12-13T06:25:30.040155Z",
     "start_time": "2017-12-13T06:25:15.112Z"
    }
   },
   "outputs": [],
   "source": [
    "# help(np.zeros)\n",
    "np.zeros((4,3), dtype=np.float64, order='F')"
   ]
  },
  {
   "cell_type": "code",
   "execution_count": null,
   "metadata": {
    "ExecuteTime": {
     "end_time": "2017-12-13T06:25:30.042656Z",
     "start_time": "2017-12-13T06:25:15.116Z"
    }
   },
   "outputs": [],
   "source": [
    "np.zeros((3,4), 'd')"
   ]
  },
  {
   "cell_type": "code",
   "execution_count": null,
   "metadata": {
    "ExecuteTime": {
     "end_time": "2017-12-13T06:25:30.042656Z",
     "start_time": "2017-12-13T06:25:15.120Z"
    }
   },
   "outputs": [],
   "source": [
    "# help(np.linspace)\n",
    "np.linspace(0, 10, 7)\n",
    "np.arange(2, 8, 2)"
   ]
  },
  {
   "cell_type": "code",
   "execution_count": null,
   "metadata": {
    "ExecuteTime": {
     "end_time": "2017-12-13T06:25:30.042656Z",
     "start_time": "2017-12-13T06:25:15.126Z"
    }
   },
   "outputs": [],
   "source": [
    "# help(np.random)"
   ]
  },
  {
   "cell_type": "code",
   "execution_count": 5,
   "metadata": {
    "ExecuteTime": {
     "end_time": "2017-12-13T06:25:58.442889Z",
     "start_time": "2017-12-13T06:25:58.427263Z"
    }
   },
   "outputs": [],
   "source": [
    "a = np.random.standard_exponential((2, 3))\n",
    "b = np.random.standard_normal((2, 3))\n",
    "c = a.transpose()\n",
    "c\n",
    "# np.vstack([a, b])\n",
    "ans = np.hstack([b, a])"
   ]
  },
  {
   "cell_type": "code",
   "execution_count": null,
   "metadata": {
    "ExecuteTime": {
     "end_time": "2017-12-13T06:25:30.042656Z",
     "start_time": "2017-12-13T06:25:15.137Z"
    }
   },
   "outputs": [],
   "source": [
    "np.save('numpyfile', ans)\n",
    "np.load('numpyfile.npy')"
   ]
  },
  {
   "cell_type": "code",
   "execution_count": null,
   "metadata": {},
   "outputs": [],
   "source": []
  }
 ],
 "metadata": {
  "kernelspec": {
   "display_name": "Python 3",
   "language": "python",
   "name": "python3"
  },
  "language_info": {
   "codemirror_mode": {
    "name": "ipython",
    "version": 3
   },
   "file_extension": ".py",
   "mimetype": "text/x-python",
   "name": "python",
   "nbconvert_exporter": "python",
   "pygments_lexer": "ipython3",
   "version": "3.6.2"
  }
 },
 "nbformat": 4,
 "nbformat_minor": 1
}
