{
 "cells": [
  {
   "cell_type": "markdown",
   "metadata": {
    "ExecuteTime": {
     "end_time": "2017-12-17T11:32:53.491000Z",
     "start_time": "2017-12-17T11:32:53.482000Z"
    }
   },
   "source": [
    "<p style='font-family: tahoma, dosis,kristen, hack; font-size: 25px; text-align: center'> Numpy records & dates </p>\n",
    "> ## Creating a hybrid numpy array/record ⬇\n",
    ">> #### Numpy's Record arrays are very similar to Pandas dataframe.\n",
    "### Record arrays are very useful for storing non-homogenous tabular data."
   ]
  },
  {
   "cell_type": "code",
   "execution_count": 2,
   "metadata": {
    "ExecuteTime": {
     "end_time": "2017-12-18T07:23:42.831000Z",
     "start_time": "2017-12-18T07:23:29.831000Z"
    }
   },
   "outputs": [
    {
     "data": {
      "text/plain": [
       "4.5"
      ]
     },
     "execution_count": 2,
     "metadata": {},
     "output_type": "execute_result"
    }
   ],
   "source": [
    "import numpy as np\n",
    "record = np.array([(1,[2.3, 4.5], 'Hello'), (2, [3.5, 7.8], \"Bye\")], dtype = [('x', np.int32), ('y', np.float32, 2), ('z', np.str, 4)])\n",
    "# Selection via dtype declaration\n",
    "record['y'][0][1]"
   ]
  },
  {
   "cell_type": "markdown",
   "metadata": {
    "ExecuteTime": {
     "end_time": "2017-12-18T07:22:48.511000Z",
     "start_time": "2017-12-18T07:22:48.199000Z"
    }
   },
   "source": [
    "<p style='font-family: tahoma, dosis,kristen, hack; font-size: 25px; text-align: center'>Numpy's datetime64 </p>"
   ]
  },
  {
   "cell_type": "code",
   "execution_count": 6,
   "metadata": {
    "ExecuteTime": {
     "end_time": "2017-12-18T07:25:54.771000Z",
     "start_time": "2017-12-18T07:25:54.764000Z"
    }
   },
   "outputs": [
    {
     "data": {
      "text/plain": [
       "True"
      ]
     },
     "execution_count": 6,
     "metadata": {},
     "output_type": "execute_result"
    }
   ],
   "source": [
    "np.datetime64('2017-12-16') > np.datetime64('2016-12-13')"
   ]
  },
  {
   "cell_type": "code",
   "execution_count": 7,
   "metadata": {
    "ExecuteTime": {
     "end_time": "2017-12-18T07:26:42.652000Z",
     "start_time": "2017-12-18T07:26:42.645000Z"
    }
   },
   "outputs": [
    {
     "data": {
      "text/plain": [
       "numpy.timedelta64(372,'D')"
      ]
     },
     "execution_count": 7,
     "metadata": {},
     "output_type": "execute_result"
    }
   ],
   "source": [
    "np.datetime64('2017-12-10') - np.datetime64('2016-12-03')"
   ]
  },
  {
   "cell_type": "code",
   "execution_count": 8,
   "metadata": {
    "ExecuteTime": {
     "end_time": "2017-12-18T07:27:40.651000Z",
     "start_time": "2017-12-18T07:27:40.644000Z"
    }
   },
   "outputs": [
    {
     "data": {
      "text/plain": [
       "numpy.datetime64('2017-07-05')"
      ]
     },
     "execution_count": 8,
     "metadata": {},
     "output_type": "execute_result"
    }
   ],
   "source": [
    "np.datetime64('2017-06-30') + np.timedelta64(5,'D')"
   ]
  },
  {
   "cell_type": "code",
   "execution_count": 14,
   "metadata": {
    "ExecuteTime": {
     "end_time": "2017-12-18T07:33:56.412000Z",
     "start_time": "2017-12-18T07:33:56.403000Z"
    }
   },
   "outputs": [
    {
     "data": {
      "text/plain": [
       "array(['2017-08-27', '2017-08-28', '2017-08-29', '2017-08-30',\n",
       "       '2017-08-31', '2017-09-01', '2017-09-02', '2017-09-03',\n",
       "       '2017-09-04', '2017-09-05', '2017-09-06', '2017-09-07',\n",
       "       '2017-09-08', '2017-09-09', '2017-09-10', '2017-09-11',\n",
       "       '2017-09-12', '2017-09-13', '2017-09-14', '2017-09-15',\n",
       "       '2017-09-16', '2017-09-17', '2017-09-18', '2017-09-19',\n",
       "       '2017-09-20', '2017-09-21', '2017-09-22', '2017-09-23',\n",
       "       '2017-09-24', '2017-09-25', '2017-09-26', '2017-09-27',\n",
       "       '2017-09-28', '2017-09-29', '2017-09-30', '2017-10-01',\n",
       "       '2017-10-02', '2017-10-03', '2017-10-04', '2017-10-05',\n",
       "       '2017-10-06', '2017-10-07', '2017-10-08', '2017-10-09',\n",
       "       '2017-10-10', '2017-10-11', '2017-10-12', '2017-10-13',\n",
       "       '2017-10-14', '2017-10-15', '2017-10-16', '2017-10-17',\n",
       "       '2017-10-18', '2017-10-19', '2017-10-20', '2017-10-21',\n",
       "       '2017-10-22', '2017-10-23', '2017-10-24', '2017-10-25',\n",
       "       '2017-10-26', '2017-10-27', '2017-10-28', '2017-10-29',\n",
       "       '2017-10-30', '2017-10-31', '2017-11-01', '2017-11-02',\n",
       "       '2017-11-03', '2017-11-04', '2017-11-05', '2017-11-06',\n",
       "       '2017-11-07', '2017-11-08', '2017-11-09', '2017-11-10',\n",
       "       '2017-11-11', '2017-11-12', '2017-11-13', '2017-11-14',\n",
       "       '2017-11-15', '2017-11-16', '2017-11-17', '2017-11-18',\n",
       "       '2017-11-19', '2017-11-20', '2017-11-21', '2017-11-22',\n",
       "       '2017-11-23', '2017-11-24', '2017-11-25', '2017-11-26',\n",
       "       '2017-11-27', '2017-11-28', '2017-11-29', '2017-11-30',\n",
       "       '2017-12-01', '2017-12-02', '2017-12-03', '2017-12-04', '2017-12-05'], dtype='datetime64[D]')"
      ]
     },
     "execution_count": 14,
     "metadata": {},
     "output_type": "execute_result"
    }
   ],
   "source": [
    "days = np.arange(np.datetime64('2017-08-27'), np.datetime64('2017-12-06'))\n",
    "days"
   ]
  },
  {
   "cell_type": "code",
   "execution_count": null,
   "metadata": {},
   "outputs": [],
   "source": []
  }
 ],
 "metadata": {
  "kernelspec": {
   "display_name": "Python 2",
   "language": "python",
   "name": "python2"
  },
  "language_info": {
   "codemirror_mode": {
    "name": "ipython",
    "version": 2
   },
   "file_extension": ".py",
   "mimetype": "text/x-python",
   "name": "python",
   "nbconvert_exporter": "python",
   "pygments_lexer": "ipython2",
   "version": "2.7.13"
  }
 },
 "nbformat": 4,
 "nbformat_minor": 1
}
